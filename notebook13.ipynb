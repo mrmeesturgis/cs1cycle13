{
 "cells": [
  {
   "cell_type": "markdown",
   "id": "d8bba665",
   "metadata": {},
   "source": [
    "<img src=\"https://www.sturgischarterschool.com/wp-content/uploads/2019/06/sturgisheader_logo.png\" alt=\"sturgis\" width=\"250\" align=\"right\"/>\n",
    "\n",
    "## Computer Science 'Roots and Leaves' notebook 13\n",
    "### Sturgis Charter Public School \n",
    "\n"
   ]
  },
  {
   "cell_type": "markdown",
   "id": "681696fb",
   "metadata": {},
   "source": [
    "Student: [your name here]\n",
    "\n",
    "Collaborators: [N/A]\n",
    "\n",
    "Notes to the teacher: [N/A]"
   ]
  },
  {
   "cell_type": "markdown",
   "id": "16bf0839",
   "metadata": {},
   "source": [
    "### Learning Objectives for notebook \n",
    "* Revisit Classes\n",
    "* Abstract Data structures\n",
    "* Recursion\n",
    "\n",
    "<img src=\"Thinking-Recursively-in-Python_Watermarked.webp\" alt=\"sturgis\" width=\"600\" align=\"center\"/>"
   ]
  },
  {
   "cell_type": "markdown",
   "id": "5601f36b",
   "metadata": {},
   "source": [
    "### Narrative\n",
    "\n",
    "At this point of the year we know a lot of data structures. We know about `intigers`, `lists`, `touples`, `dictionaries`, `strings`, `sets`, and a few other less emphasized ones as well.\n",
    "\n",
    "We've also worked with `functions` and `classes`, and used quite a few Python imports. So what's next? Well there are, of course, many possible next steps, but the most logical is to talk about abstract data structures. It doesn't sound all that glamorous, but what it can accomplish...well we haven't seen the end of that yet. \n",
    "\n",
    "#### Abstract Data Structure\n",
    "\n",
    "What is an abstract data structure? In short an Abstract Data Structure is the implementation of an abstract data type. If this sounds familiar it should: think about the relationship between an object and a class--the building and the blueprint. But let's get a nice solid definition on the table. \n",
    "\n",
    "\"Abstract Data type (ADT) is a type (or class) for objects whose behavior is defined by a set of values and a set of operations.\"([source](https://www.geeksforgeeks.org/abstract-data-types/))\n",
    "\n",
    "In order to build these, we are going to rely on our knowledge of classes. In fact our class will be the abstract data structure, and what's really awesome is we can build them however we want. You've actually encountered these in a lot of areas without even realizing it. For example, using the Beautiful Soup package is an abstract data type, which even has a tree-like structure.\n",
    "\n",
    "Trees are a very common metaphor in this area. \n",
    "\n",
    "#### Recursion\n",
    "\n",
    "Recursion is not specifically associated with Abstract Data Structures, but it is very useful in this context. One way of thinking/computation is iterative. This is in many ways what we might consider normal thinking. The idea is that we first do one thing, then we do another thing, and so on and so forth. Recursion, however, is like a big circle back upon itself. The idea is that many complex problems can be solved by first breaking the problem down and solving a slightly simpler problem. We recursively break the problem down until we reach the simplest possible problem. We then solve that simple problem and pass the results back to the previously most complicated problem, until we have at last reached the original problem. \n",
    "\n",
    "If that doesn't make any sense, that's not all that surprising. It's very...abstract...I find the easiest way to understand it is by playing this game:\n",
    "\n",
    "![Tower](tower.jpeg)\n",
    "\n",
    "The game is called Tower of Hanoi, and the goal is to get all of the disks from the first post to the third post. The catch is that a bigger disk can never sit on top of a smaller disk. We'll play around a little bit with this. What's truly amazing about this puzzle/game is that you can have any amount of disks!  "
   ]
  },
  {
   "cell_type": "markdown",
   "id": "efde6519",
   "metadata": {},
   "source": [
    "### Question 1: Stacks and Queues\n",
    "\n",
    "Let's build a stack. To do any of these abstract data structures we're going to use classes. In Python stacks are actually incredibly easy to do. They will look kind of like a list. That is because it takes advantage of Python's ability to have lists that are flexible in size. We won't go into the underlying architecture, but what we need is to be able to have a stack, that we can add to, and then remove from. When we remove from a stack, we want to remove from the top (or most recent) data, (last in first out). What this means in practicality is that we're simply building a class around a **list**. We are essentially encoding a fancy list and calling it a stack. The key thing is that the class has two methods, push and pop. \n",
    "\n",
    "A queue is very similar, but instead it's FIFO (first in first out). Here we need a function that has two very simmilar methods: enqueue and dequeue. Let's get to it!"
   ]
  },
  {
   "cell_type": "code",
   "execution_count": 18,
   "id": "347be822",
   "metadata": {},
   "outputs": [],
   "source": [
    "#Your code for your class here\n",
    "class stack:\n",
    "    def __init__(self):\n",
    "        self.stack = []\n",
    "    \n",
    "    def push(self, entry):\n",
    "        self.stack.append(entry)\n",
    "    \n",
    "    def pop(self):\n",
    "        if self.stack: return self.stack.pop(-1)\n",
    "    \n",
    "#Your code for your queue here (it's possible that copy and past will be helpful here...)\n",
    "\n",
    "class queue:\n",
    "    def __init__(self):\n",
    "        self.queue = []\n",
    "    \n",
    "    def enqueue(self, entry):\n",
    "        self.queue.append(entry)\n",
    "        \n",
    "    def dequeue(self):\n",
    "        if self.queue: return self.queue.pop(0)"
   ]
  },
  {
   "cell_type": "code",
   "execution_count": 23,
   "id": "b12c81ca",
   "metadata": {
    "deletable": false,
    "editable": false
   },
   "outputs": [
    {
     "name": "stdout",
     "output_type": "stream",
     "text": [
      "Let's take a look at the stack you created\n",
      "\n",
      " ['build', 'To', 'of', 'data', 'going', 'classes.', 'stacks', 'incredibly', 'do.', 'look', 'like', 'That', 'it', 'of', 'to', 'that', 'in', \"won't\", 'the', 'but', 'need', 'be', 'have', 'that', 'add', 'then', 'When', 'from', 'we', 'remove', 'top', 'recent)', 'in']\n",
      "\n",
      "Now let's check your queue:\n",
      "\n",
      "['size.', \"won't\", 'go', 'the', 'underlying', 'but', 'what', 'need', 'is', 'be', 'able', 'have', 'a', 'that', 'we', 'add', 'to,', 'then', 'remove', 'When', 'we', 'from', 'a', 'we', 'want', 'remove', 'from', 'top', '(or', 'recent)', 'data,', 'in', 'first']\n"
     ]
    }
   ],
   "source": [
    "test_data = \"Let's build a stack. To do any of these abstract data structures we're going to use classes. In Python stacks are actually incredibly easy to do. They will look kind of like a list. That is because it takes advantage of Python's ability to have lists that are flexible in size. We won't go into the underlying architecture, but what we need is to be able to have a stack, that we can add to, and then remove from. When we remove from a stack, we want to remove from the top (or most recent) data, (last in first out).\"\n",
    "test_data = test_data.split()\n",
    "\n",
    "mystack = stack()\n",
    "for i, t in enumerate(test_data):\n",
    "    if i % 3 == 0:\n",
    "        mystack.pop()\n",
    "        continue\n",
    "    mystack.push(t)\n",
    "\n",
    "print(\"Let's take a look at the stack you created\\n\\n\", mystack.stack)\n",
    "    \n",
    "assert mystack.stack == ['build', 'To', 'of', 'data', 'going', 'classes.', 'stacks',\n",
    "                        'incredibly', 'do.', 'look', 'like', 'That', 'it', 'of', 'to',\n",
    "                        'that', 'in', \"won't\", 'the', 'but', 'need', 'be', 'have', 'that',\n",
    "                        'add', 'then', 'When', 'from', 'we', 'remove', 'top', 'recent)', 'in']\n",
    "\n",
    "print(\"\\nNow let's check your queue:\\n\")\n",
    "\n",
    "myqueue = queue()\n",
    "\n",
    "for i, t in enumerate(test_data):\n",
    "    if i % 3 == 0:\n",
    "        myqueue.dequeue()\n",
    "        continue\n",
    "    myqueue.enqueue(t)\n",
    "print(myqueue.queue)\n",
    "\n",
    "assert myqueue.queue == ['size.', \"won't\", 'go', 'the', 'underlying', 'but',\n",
    "                         'what', 'need', 'is', 'be', 'able', 'have', 'a', 'that',\n",
    "                         'we', 'add', 'to,', 'then', 'remove', 'When', 'we', 'from',\n",
    "                         'a', 'we', 'want', 'remove', 'from', 'top', '(or', 'recent)',\n",
    "                         'data,', 'in', 'first']"
   ]
  },
  {
   "cell_type": "markdown",
   "id": "64ee1d07",
   "metadata": {},
   "source": [
    "### Question 2: Linked List\n",
    "\n",
    "Alright, so stacks and queues were easy. In fact they kind of seem pointless. Let's move on to something that is starting to look like something useful, though to be honest, what we're really going to see is the architecture of something useful. The beauty of that architecture is that we can add attributes to each of our nodes as we want. \n",
    "\n",
    "Here we're going to make two classes. We're going to have a node class, and we're going to have the linkedlist class. These two classes are going to interact with each other in important ways. \n",
    "\n",
    "We're going to make something that conceptually looks like the following. \n",
    "\n",
    "![ll](Singly-Linked-List1.png)\n",
    "\n",
    "Note that a single grey unit is a node. While the whole thing together is the linked list. The node should be easy to build. It needs to have two attributes. It needs to be able hold data or `cargo`, and it needs to have a `next` attribute, which can hold the value of another node. This value is frequently called a pointer. "
   ]
  },
  {
   "cell_type": "code",
   "execution_count": null,
   "id": "53de36d1",
   "metadata": {},
   "outputs": [],
   "source": [
    "#This is done for you.\n",
    "class Node:\n",
    "    def __init__(self, cargo = None, step=None):\n",
    "        self.cargo = cargo\n",
    "        self.next = step\n",
    "        \n",
    "    def __str__(self):\n",
    "        return str(self.cargo)\n",
    "    \n",
    "nodes = [Node(i) for i in range(0,10)] # let's build ten nodes\n",
    "\n",
    "#This demonstrates nodes linked, but it is NOT importatnt to the linked list. \n",
    "\n",
    "for i, node in enumerate(nodes):\n",
    "    if i < len(nodes) - 1: #Because the last node is left unlinked with None\n",
    "        node.next = nodes[i+1]\n",
    "\n",
    "#Your code here\n",
    "#Finally let's wrap these nodes in a class called Linkedlist\n",
    "\n",
    "\n",
    "class Linkedlist:\n",
    "    \n",
    "    def __init__(self):\n",
    "        self.length = 0 \n",
    "        self.head = None \n",
    "        \n",
    "    def add_first(self, cargo):\n",
    "        raise NotimplementedError(\"Erase this line and write your code.\")\n",
    "        #Your code here\n",
    "        \n",
    "    def rev_order(self, head, trail):\n",
    "        raise NotImplementedError(\"Erase this line and write your code.\")\n",
    "        #Your code here\n",
    "        \n",
    "    def print_forward(self, head): #This is built, no need to change. Note you have to give it the head.\n",
    "        if head != None:\n",
    "            print(\"step\", head)\n",
    "            self.print_forward(head.next)\n",
    "        else:\n",
    "            print(None)\n",
    "\n",
    "    "
   ]
  },
  {
   "cell_type": "code",
   "execution_count": null,
   "id": "69b3a6f6",
   "metadata": {},
   "outputs": [],
   "source": [
    "#Let's instantiate the class. \n",
    "link = Linkedlist()\n",
    "\n",
    "#It starts out empty. Let's build some nodes.\n",
    "for i in range(0,10):\n",
    "    link.add_first(i)\n",
    "\n",
    "#Now for the assert checks.\n",
    "assert link.length == 10\n",
    "assert type(link.head) == Node\n",
    "assert link.head.cargo == 9\n",
    "assert link.head.next.next.cargo == 7\n",
    "link.rev_order(link.head, None)\n",
    "assert link.head.cargo == 0\n",
    "assert link.head.next.next.next.next.cargo == 4"
   ]
  },
  {
   "cell_type": "markdown",
   "id": "e92371d7",
   "metadata": {},
   "source": [
    "### Question 3: Binary Search Trees [HL]\n",
    "\n",
    "I find that it's very helpful to see what a binary search tree would look like. Can you see the pattern?\n",
    "One key element to a binary search tree is that there are multiple ways to traverse the tree. A **super** helpful resource for this is the relevant chapter in the [Python textbook](python_chp28_trees.pdf). "
   ]
  },
  {
   "cell_type": "markdown",
   "id": "fe59aa29",
   "metadata": {},
   "source": [
    "![tree](graphviz_bubblesort.png)\n",
    "\n",
    "Now please note that this time I build the tree structure for you. Your job is to build functions to traverse the tree. If you read the relevant portion of the chapter, this will become easy. Remember: recursive! :D"
   ]
  },
  {
   "cell_type": "code",
   "execution_count": null,
   "id": "aff4a30b",
   "metadata": {},
   "outputs": [],
   "source": [
    "class Tree:\n",
    "    def __init__(self, cargo, left = None, right = None):\n",
    "        self.cargo = cargo\n",
    "        self.left = left\n",
    "        self.right = right\n",
    "        \n",
    "    def __str__(self):\n",
    "        node = str(self.cargo)\n",
    "        return node\n",
    "    \n",
    "numbers = [8, 6, 16, 10, 17, 7, 15, 18, 3, 0, 5, 11, 14, 19, 9, 12, 2, 4, 13, 1]\n",
    "\n",
    "T1 = Tree(numbers[0]) #We're going to make the head here\n",
    "\n",
    "def treeassign(node, target): #First call will be the root\n",
    "    if target > node.cargo:\n",
    "        if node.right == None:\n",
    "            node.right = Tree(target)\n",
    "        else:\n",
    "            treeassign(node.right, target)\n",
    "    if target < node.cargo:\n",
    "        if node.left == None:\n",
    "            node.left = Tree(target)\n",
    "        else:\n",
    "            treeassign(node.left, target)\n",
    "    return None\n",
    "\n",
    "\n",
    "# This is where we populate our binary search tree\n",
    "for number in numbers:\n",
    "    treeassign(T1, number)\n",
    "        "
   ]
  },
  {
   "cell_type": "code",
   "execution_count": null,
   "id": "4cd0d869",
   "metadata": {},
   "outputs": [],
   "source": [
    "#This is the code that builds the graphviz images based on our tree\n",
    "\n",
    "'''\n",
    "import graphviz\n",
    "dot = graphviz.Digraph(comment='Binary Tree')\n",
    "def dot_tree(tree, dot, previous):\n",
    "    if tree is None: return\n",
    "    \n",
    "    dot.node(str(tree.cargo), str(tree.cargo))\n",
    "    if previous is not None:\n",
    "        dot.edge(str(previous.cargo), str(tree.cargo))\n",
    "    dot_tree(tree.left, dot, tree)\n",
    "    dot_tree(tree.right, dot, tree)\n",
    "\n",
    "dot_tree(T1, dot, None)    \n",
    "\n",
    "dot'''"
   ]
  },
  {
   "cell_type": "code",
   "execution_count": null,
   "id": "1ea1f988",
   "metadata": {},
   "outputs": [],
   "source": [
    "def pretraverse_tree(tree, traverse, counter): #You decide if you need the counter\n",
    "    raise NotImplementedError(\"Erase this line and write your code.\")\n",
    "    \n",
    "def posttraverse_tree(tree, traverse, counter): \n",
    "    raise NotImplementedError(\"Erase this line and write your code.\")\n",
    "    \n",
    "def intraverse_tree(tree, answer, counter):\n",
    "    raise NotImplementedError(\"Erase this line and write your code.\")"
   ]
  },
  {
   "cell_type": "code",
   "execution_count": null,
   "id": "7c6ae53e",
   "metadata": {},
   "outputs": [],
   "source": [
    "pretraversal = pretraverse_tree()\n",
    "posttraversal = posttraverse_tree()\n",
    "intraversal = interaverse_tree()"
   ]
  },
  {
   "cell_type": "code",
   "execution_count": null,
   "id": "81c0d56b",
   "metadata": {},
   "outputs": [],
   "source": [
    "assert pretraversal == [8, 6, 3, 0, 2, 1, 5, 4, 7, 16, 10, 9, 15, 11, 14, 12, 13, 17, 18, 19]\n",
    "assert posttraversal == [1, 2, 0, 4, 5, 3, 7, 6, 9, 13, 12, 14, 11, 15, 10, 19, 18, 17, 16, 8]\n",
    "assert intraversal == [0, 1, 2, 3, 4, 5, 6, 7, 8, 9, 10, 11, 12, 13, 14, 15, 16, 17, 18, 19]"
   ]
  }
 ],
 "metadata": {
  "kernelspec": {
   "display_name": "Python 3 (ipykernel)",
   "language": "python",
   "name": "python3"
  },
  "language_info": {
   "codemirror_mode": {
    "name": "ipython",
    "version": 3
   },
   "file_extension": ".py",
   "mimetype": "text/x-python",
   "name": "python",
   "nbconvert_exporter": "python",
   "pygments_lexer": "ipython3",
   "version": "3.9.7"
  }
 },
 "nbformat": 4,
 "nbformat_minor": 5
}
